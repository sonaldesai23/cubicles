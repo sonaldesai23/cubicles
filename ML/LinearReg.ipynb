{
 "cells": [
  {
   "cell_type": "markdown",
   "metadata": {},
   "source": [
    "**Linear Regression (Supervised Learning - Regression)**\n",
    "\n",
    "**Task:** Predict a continuous value (e.g., house prices).\n",
    "\n",
    "**Dataset:** California Housing Dataset (built into scikit-learn)."
   ]
  },
  {
   "cell_type": "code",
   "execution_count": 5,
   "metadata": {},
   "outputs": [
    {
     "name": "stdout",
     "output_type": "stream",
     "text": [
      "Requirement already satisfied: scikit-learn in c:\\users\\admin\\appdata\\local\\programs\\python\\python312\\lib\\site-packages (1.6.1)\n",
      "Requirement already satisfied: numpy>=1.19.5 in c:\\users\\admin\\appdata\\local\\programs\\python\\python312\\lib\\site-packages (from scikit-learn) (1.26.4)\n",
      "Requirement already satisfied: scipy>=1.6.0 in c:\\users\\admin\\appdata\\local\\programs\\python\\python312\\lib\\site-packages (from scikit-learn) (1.15.2)\n",
      "Requirement already satisfied: joblib>=1.2.0 in c:\\users\\admin\\appdata\\local\\programs\\python\\python312\\lib\\site-packages (from scikit-learn) (1.4.2)\n",
      "Requirement already satisfied: threadpoolctl>=3.1.0 in c:\\users\\admin\\appdata\\local\\programs\\python\\python312\\lib\\site-packages (from scikit-learn) (3.6.0)\n",
      "Note: you may need to restart the kernel to use updated packages.\n"
     ]
    },
    {
     "name": "stderr",
     "output_type": "stream",
     "text": [
      "\n",
      "[notice] A new release of pip is available: 24.3.1 -> 25.0.1\n",
      "[notice] To update, run: python.exe -m pip install --upgrade pip\n"
     ]
    }
   ],
   "source": [
    "# Install scikit-learn\n",
    "%pip install scikit-learn"
   ]
  },
  {
   "cell_type": "code",
   "execution_count": 4,
   "metadata": {},
   "outputs": [
    {
     "name": "stdout",
     "output_type": "stream",
     "text": [
      "Mean Squared Error (MSE): 0.5558915986952426\n"
     ]
    }
   ],
   "source": [
    "# Import necessary libraries\n",
    "from sklearn.datasets import fetch_california_housing  # To load the California housing dataset\n",
    "from sklearn.model_selection import train_test_split  # To split the dataset into training and testing sets\n",
    "from sklearn.linear_model import LinearRegression  # To create and train a Linear Regression model\n",
    "from sklearn.metrics import mean_squared_error  # To evaluate the model's performance\n",
    "import numpy as np  # To handle numerical operations\n",
    "\n",
    "# Step 1: Load the California Housing dataset\n",
    "data = fetch_california_housing()  # Fetches the dataset, which contains house prices and related features\n",
    "\n",
    "# Step 2: Extract features (X) and target variable (y)\n",
    "X = data.data  # Features (e.g., population, median income, house age, etc.)\n",
    "y = data.target  # Target variable (median house value in $100,000s)\n",
    "\n",
    "# Step 3: Split the dataset into training and testing sets\n",
    "X_train, X_test, y_train, y_test = train_test_split(X, y, test_size=0.2, random_state=42)\n",
    "# `test_size=0.2` means 20% of the data is used for testing, 80% for training\n",
    "# `random_state=42` ensures reproducibility, so the same data split happens every time the code runs\n",
    "\n",
    "# Step 4: Create and train a Linear Regression model\n",
    "model = LinearRegression()  # Initializes the Linear Regression model\n",
    "model.fit(X_train, y_train)  # Trains the model using the training data (X_train, y_train)\n",
    "\n",
    "# Step 5: Make predictions on the test data\n",
    "y_pred = model.predict(X_test)  # Uses the trained model to predict house prices for the test set\n",
    "\n",
    "# Step 6: Evaluate the model using Mean Squared Error (MSE)\n",
    "mse = mean_squared_error(y_test, y_pred)  # Calculates the average squared difference between actual and predicted values\n",
    "print(\"Mean Squared Error (MSE):\", mse)  # Prints the error value\n",
    "\n",
    "# To prevent potential overflow issues, convert predictions to a NumPy array\n",
    "y_pred = np.array(y_pred)\n"
   ]
  },
  {
   "cell_type": "markdown",
   "metadata": {},
   "source": [
    "**Task:**\n",
    "1. Predict Car Prices using a Custom Dataset"
   ]
  },
  {
   "cell_type": "code",
   "execution_count": 34,
   "metadata": {},
   "outputs": [
    {
     "name": "stdout",
     "output_type": "stream",
     "text": [
      "Mean Squared Error (MSE): 557158768.5378634\n",
      "R-squared (R2): 0.14461985527651156\n",
      "[11877.47512055 18549.59601949 26632.39529023 ... 15720.65725138\n",
      " 19436.20200534 15336.03759624]\n"
     ]
    }
   ],
   "source": [
    "import pandas as pd\n",
    "from sklearn.model_selection import train_test_split  # To split the dataset into training and testing sets\n",
    "from sklearn.linear_model import LinearRegression  # To create and train a Linear Regression model\n",
    "from sklearn.metrics import mean_squared_error  # To evaluate the model's performance\n",
    "from sklearn.impute import SimpleImputer  # To handle missing values\n",
    "import numpy as np\n",
    "\n",
    "# Step 1: Load the dataset\n",
    "df = pd.read_csv(\"D:\\\\CUBICLES\\\\car-sale-advertisements\\\\car_ad.csv\", encoding='ISO-8859-1') #replace with your file path.\n",
    "# print(df.head())\n",
    "# df.info()\n",
    "\n",
    "# Step 2: Extract features (X) and target variable (y)\n",
    "X = df[['year', 'mileage', 'engV']]\n",
    "y = df['price']\n",
    "\n",
    "# Handle missing values by imputing with the mean\n",
    "imputer = SimpleImputer(strategy='mean')\n",
    "X = imputer.fit_transform(X)\n",
    "\n",
    "# Step 3: Split the dataset into training and testing sets\n",
    "X_train, X_test, y_train, y_test = train_test_split(X, y, test_size=0.2, random_state=42)\n",
    "\n",
    "# Step 4: Create and train a Linear Regression model\n",
    "model = LinearRegression()  \n",
    "model.fit(X_train, y_train)  \n",
    "\n",
    "# Step 5: Make predictions on the test data\n",
    "y_pred = model.predict(X_test) \n",
    "\n",
    "# Step 6: Evaluate the model using Mean Squared Error (MSE)\n",
    "mse = mean_squared_error(y_test, y_pred)  # Calculates the average squared difference between actual and predicted values\n",
    "print(\"Mean Squared Error (MSE):\", mse)\n",
    "\n",
    "r2 = r2_score(y_test, y_pred) #Added r2 score.\n",
    "print(\"R-squared (R2):\", r2)\n",
    "\n",
    "y_pred = np.array(y_pred)\n",
    "print(y_pred)"
   ]
  },
  {
   "cell_type": "code",
   "execution_count": 30,
   "metadata": {},
   "outputs": [
    {
     "name": "stdout",
     "output_type": "stream",
     "text": [
      "Mean Squared Error (MSE): 557158768.5378633\n",
      "R-squared (R2): 0.14461985527651178\n"
     ]
    }
   ],
   "source": [
    "import pandas as pd\n",
    "from sklearn.model_selection import train_test_split\n",
    "from sklearn.linear_model import LinearRegression\n",
    "from sklearn.metrics import mean_squared_error, r2_score #Added r2_score\n",
    "from sklearn.impute import SimpleImputer\n",
    "from sklearn.preprocessing import StandardScaler #Added standard scaler.\n",
    "import os\n",
    "\n",
    "# Step 1: Load the dataset\n",
    "dataset_path = os.path.join(\"D:\\\\CUBICLES\", \"car-sale-advertisements\", \"car_ad.csv\")\n",
    "\n",
    "if os.path.exists(dataset_path):\n",
    "    df = pd.read_csv(dataset_path, encoding='ISO-8859-1')\n",
    "    # print(df.head())\n",
    "    # df.info()\n",
    "\n",
    "    # Step 2: Extract features (X) and target variable (y)\n",
    "    X = df[['year', 'mileage', 'engV']]\n",
    "    y = df['price']\n",
    "\n",
    "    # Handle missing values by imputing with the mean\n",
    "    imputer = SimpleImputer(strategy='mean')\n",
    "    X = imputer.fit_transform(X)\n",
    "\n",
    "    # Scale the features\n",
    "    scaler = StandardScaler()\n",
    "    X = scaler.fit_transform(X)\n",
    "\n",
    "    # Step 3: Split the dataset into training and testing sets\n",
    "    X_train, X_test, y_train, y_test = train_test_split(X, y, test_size=0.2, random_state=42)\n",
    "\n",
    "    # Step 4: Create and train a Linear Regression model\n",
    "    model = LinearRegression()\n",
    "    model.fit(X_train, y_train)\n",
    "\n",
    "    # Step 5: Make predictions on the test data\n",
    "    y_pred = model.predict(X_test)\n",
    "\n",
    "    # Step 6: Evaluate the model\n",
    "    mse = mean_squared_error(y_test, y_pred)\n",
    "    r2 = r2_score(y_test, y_pred) #Added r2 score.\n",
    "    print(\"Mean Squared Error (MSE):\", mse)\n",
    "    print(\"R-squared (R2):\", r2)\n",
    "\n",
    "else:\n",
    "    print(f\"Error: Dataset not found at {dataset_path}\")"
   ]
  },
  {
   "cell_type": "markdown",
   "metadata": {},
   "source": [
    "**Task:**\n",
    "\n",
    "2. Salary Prediction based on Experience"
   ]
  },
  {
   "cell_type": "code",
   "execution_count": null,
   "metadata": {},
   "outputs": [],
   "source": []
  }
 ],
 "metadata": {
  "kernelspec": {
   "display_name": "Python 3",
   "language": "python",
   "name": "python3"
  },
  "language_info": {
   "codemirror_mode": {
    "name": "ipython",
    "version": 3
   },
   "file_extension": ".py",
   "mimetype": "text/x-python",
   "name": "python",
   "nbconvert_exporter": "python",
   "pygments_lexer": "ipython3",
   "version": "3.12.8"
  }
 },
 "nbformat": 4,
 "nbformat_minor": 2
}
