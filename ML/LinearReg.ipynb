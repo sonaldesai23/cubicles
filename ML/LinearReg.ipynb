{
 "cells": [
  {
   "cell_type": "markdown",
   "metadata": {},
   "source": [
    "**Linear Regression (Supervised Learning - Regression)**\n",
    "\n",
    "**Task:** Predict a continuous value (e.g., house prices).\n",
    "\n",
    "**Dataset:** California Housing Dataset (built into scikit-learn)."
   ]
  },
  {
   "cell_type": "code",
   "execution_count": 5,
   "metadata": {},
   "outputs": [
    {
     "name": "stdout",
     "output_type": "stream",
     "text": [
      "Requirement already satisfied: scikit-learn in c:\\users\\admin\\appdata\\local\\programs\\python\\python312\\lib\\site-packages (1.6.1)\n",
      "Requirement already satisfied: numpy>=1.19.5 in c:\\users\\admin\\appdata\\local\\programs\\python\\python312\\lib\\site-packages (from scikit-learn) (1.26.4)\n",
      "Requirement already satisfied: scipy>=1.6.0 in c:\\users\\admin\\appdata\\local\\programs\\python\\python312\\lib\\site-packages (from scikit-learn) (1.15.2)\n",
      "Requirement already satisfied: joblib>=1.2.0 in c:\\users\\admin\\appdata\\local\\programs\\python\\python312\\lib\\site-packages (from scikit-learn) (1.4.2)\n",
      "Requirement already satisfied: threadpoolctl>=3.1.0 in c:\\users\\admin\\appdata\\local\\programs\\python\\python312\\lib\\site-packages (from scikit-learn) (3.6.0)\n",
      "Note: you may need to restart the kernel to use updated packages.\n"
     ]
    },
    {
     "name": "stderr",
     "output_type": "stream",
     "text": [
      "\n",
      "[notice] A new release of pip is available: 24.3.1 -> 25.0.1\n",
      "[notice] To update, run: python.exe -m pip install --upgrade pip\n"
     ]
    }
   ],
   "source": [
    "# Install scikit-learn\n",
    "%pip install scikit-learn"
   ]
  },
  {
   "cell_type": "code",
   "execution_count": null,
   "metadata": {},
   "outputs": [
    {
     "name": "stdout",
     "output_type": "stream",
     "text": [
      "Mean Squared Error (MSE): 0.5558915986952426\n",
      "R-squared (R2): 0.5757877060324521\n"
     ]
    },
    {
     "data": {
      "text/plain": [
       "array([0.71912284, 1.76401657, 2.70965883, ..., 4.46877017, 1.18751119,\n",
       "       2.00940251])"
      ]
     },
     "execution_count": 3,
     "metadata": {},
     "output_type": "execute_result"
    }
   ],
   "source": [
    "# Import necessary libraries\n",
    "from sklearn.datasets import fetch_california_housing  # To load the California housing dataset\n",
    "from sklearn.model_selection import train_test_split  # To split the dataset into training and testing sets\n",
    "from sklearn.linear_model import LinearRegression  # To create and train a Linear Regression model\n",
    "from sklearn.metrics import mean_squared_error  # To evaluate the model's performance\n",
    "from sklearn.metrics import r2_score  # To evaluate the model's performance\n",
    "import numpy as np  # To handle numerical operations\n",
    "\n",
    "# Step 1: Load the California Housing dataset\n",
    "data = fetch_california_housing()  # Fetches the dataset, which contains house prices and related features\n",
    "\n",
    "# Step 2: Extract features (X) and target variable (y)\n",
    "X = data.data  # Features (e.g., population, median income, house age, etc.)\n",
    "y = data.target  # Target variable (median house value in $100,000s)\n",
    "\n",
    "# Step 3: Split the dataset into training and testing sets\n",
    "X_train, X_test, y_train, y_test = train_test_split(X, y, test_size=0.2, random_state=42)\n",
    "# `test_size=0.2` means 20% of the data is used for testing, 80% for training\n",
    "# `random_state=42` ensures reproducibility, so the same data split happens every time the code runs\n",
    "\n",
    "# Step 4: Create and train a Linear Regression model\n",
    "model = LinearRegression()  # Initializes the Linear Regression model\n",
    "model.fit(X_train, y_train)  # Trains the model using the training data (X_train, y_train)\n",
    "\n",
    "# Step 5: Make predictions on the test data\n",
    "y_pred = model.predict(X_test)  # Uses the trained model to predict house prices for the test set\n",
    "\n",
    "# Step 6: Evaluate the model using Mean Squared Error (MSE)\n",
    "mse = mean_squared_error(y_test, y_pred)  # Calculates the average squared difference between actual and predicted values\n",
    "print(\"Mean Squared Error (MSE):\", mse)  # Prints the error value\n",
    "\n",
    "r2 = r2_score(y_test, y_pred) #Added r2 score.\n",
    "print(\"R-squared (R2):\", r2)\n",
    "\n",
    "# To prevent potential overflow issues, convert predictions to a NumPy array\n",
    "y_pred = np.array(y_pred)\n",
    "# y_pred\n"
   ]
  },
  {
   "cell_type": "markdown",
   "metadata": {},
   "source": [
    "**Task:**\n",
    "1. Predict Car Prices using a Custom Dataset"
   ]
  },
  {
   "cell_type": "code",
   "execution_count": 36,
   "metadata": {},
   "outputs": [
    {
     "name": "stdout",
     "output_type": "stream",
     "text": [
      "Mean Squared Error (MSE): 68.53786\n",
      "R-squared (R2): 0.14461985527651156\n",
      "[11877.47512055 18549.59601949 26632.39529023 ... 15720.65725138\n",
      " 19436.20200534 15336.03759624]\n"
     ]
    }
   ],
   "source": [
    "import pandas as pd\n",
    "from sklearn.model_selection import train_test_split  # To split the dataset into training and testing sets\n",
    "from sklearn.linear_model import LinearRegression  # To create and train a Linear Regression model\n",
    "from sklearn.metrics import mean_squared_error  # To evaluate the model's performance\n",
    "from sklearn.impute import SimpleImputer  # To handle missing values\n",
    "from sklearn.metrics import r2_score  \n",
    "import numpy as np\n",
    "\n",
    "# Step 1: Load the dataset\n",
    "df = pd.read_csv(\"D:\\\\CUBICLES\\\\car-sale-advertisements\\\\car_ad.csv\", encoding='ISO-8859-1') #replace with your file path.\n",
    "# print(df.head())\n",
    "# df.info()\n",
    "\n",
    "# Step 2: Extract features (X) and target variable (y)\n",
    "X = df[['year', 'mileage', 'engV']]\n",
    "y = df['price']\n",
    "\n",
    "# Handle missing values by imputing with the mean\n",
    "imputer = SimpleImputer(strategy='mean')\n",
    "X = imputer.fit_transform(X)\n",
    "\n",
    "# Step 3: Split the dataset into training and testing sets\n",
    "X_train, X_test, y_train, y_test = train_test_split(X, y, test_size=0.2, random_state=42)\n",
    "\n",
    "# Step 4: Create and train a Linear Regression model\n",
    "model = LinearRegression()  \n",
    "model.fit(X_train, y_train)  \n",
    "\n",
    "# Step 5: Make predictions on the test data\n",
    "y_pred = model.predict(X_test) \n",
    "\n",
    "# Step 6: Evaluate the model using Mean Squared Error (MSE)\n",
    "mse = mean_squared_error(y_test, y_pred)  # Calculates the average squared difference between actual and predicted values\n",
    "formatted_mse = \"{:.5f}\".format(mse % 100) #Modulus 100 to get last 2 digits before decimal.\n",
    "print(f\"Mean Squared Error (MSE): {formatted_mse}\")\n",
    "\n",
    "r2 = r2_score(y_test, y_pred) #Added r2 score.\n",
    "print(\"R-squared (R2):\", r2)\n",
    "\n",
    "y_pred = np.array(y_pred)\n",
    "print(y_pred)"
   ]
  },
  {
   "cell_type": "markdown",
   "metadata": {},
   "source": [
    "**Task:**\n",
    "\n",
    "2. Salary Prediction based on Experience"
   ]
  },
  {
   "cell_type": "code",
   "execution_count": 35,
   "metadata": {},
   "outputs": [
    {
     "name": "stdout",
     "output_type": "stream",
     "text": [
      "Mean Squared Error (MSE): 12.10690\n",
      "R-squared (R2): 0.42143674081968385\n"
     ]
    }
   ],
   "source": [
    "import pandas as pd\n",
    "from sklearn.model_selection import train_test_split  # To split the dataset into training and testing sets\n",
    "from sklearn.linear_model import LinearRegression  # To create and train a Linear Regression model\n",
    "from sklearn.metrics import mean_squared_error  # To evaluate the model's performance\n",
    "from sklearn.impute import SimpleImputer  # To handle missing values\n",
    "from sklearn.metrics import r2_score  # To calculate the R-squared score\n",
    "import numpy as np\n",
    "\n",
    "# Step 1\n",
    "df = pd.read_csv(\"D:\\\\CUBICLES\\\\employee-data-simulation-it-industry\\\\employee_data.csv\") #replace with your file path.\n",
    "# print(df.head())\n",
    "\n",
    "# df.info()\n",
    "\n",
    "# Step 2\n",
    "X = df[['Experience (Years)']]\n",
    "y = df['Salary']\n",
    "\n",
    "# Step 3\n",
    "X_train, X_test, y_train, y_test = train_test_split(X, y, test_size=0.1, random_state=42)\n",
    "\n",
    "# Step 4\n",
    "model = LinearRegression()  \n",
    "model.fit(X_train, y_train) \n",
    "\n",
    "# Step 5\n",
    "y_pred = model.predict(X_test) \n",
    "# print(y_pred)\n",
    "\n",
    "# Step 6\n",
    "mse = mean_squared_error(y_test, y_pred)  \n",
    "formatted_mse = \"{:.5f}\".format(mse % 100) #Modulus 100 to get last 2 digits before decimal.\n",
    "print(f\"Mean Squared Error (MSE): {formatted_mse}\")\n",
    "\n",
    "r2 = r2_score(y_test, y_pred) #Added r2 score.\n",
    "print(\"R-squared (R2):\", r2)\n",
    "\n"
   ]
  },
  {
   "cell_type": "markdown",
   "metadata": {},
   "source": [
    "**Task:**\n",
    "\n",
    "3. House Price Prediction with Feature Engineering"
   ]
  },
  {
   "cell_type": "code",
   "execution_count": 57,
   "metadata": {},
   "outputs": [
    {
     "name": "stdout",
     "output_type": "stream",
     "text": [
      "Mean Squared Error (MSE): 40.42844\n",
      "R-squared (R2): 0.7559786670107435\n"
     ]
    }
   ],
   "source": [
    "import pandas as pd\n",
    "from sklearn.model_selection import train_test_split  # To split the dataset into training and testing sets\n",
    "from sklearn.linear_model import LinearRegression  # To create and train a Linear Regression model\n",
    "from sklearn.metrics import mean_squared_error  # To evaluate the model's performance\n",
    "from sklearn.impute import SimpleImputer  # To handle missing values\n",
    "from sklearn.metrics import r2_score  # To calculate the R-squared score\n",
    "import numpy as np\n",
    "\n",
    "# Step 1\n",
    "df = pd.read_csv(\"D:\\\\CUBICLES\\\\house-price-prediction-dataset\\\\House Price Prediction Dataset.csv\") #replace with your file path.\n",
    "# print(df.head())\n",
    "\n",
    "# df.info()\n",
    "\n",
    "# Create new features\n",
    "df['PricePerRoom'] = df['Price'] / (df['Bedrooms'] + df['Bathrooms'])  # Assuming rooms = bedrooms + bathrooms\n",
    "df['AgeFactor'] = (2025 - df['YearBuilt']) / 10  # Calculate age based on current year\n",
    "\n",
    "# Step 2\n",
    "X = df[['Area','Floors','YearBuilt','PricePerRoom','AgeFactor','Bedrooms','Bathrooms']]  # Features\n",
    "y = df['Price']\n",
    "\n",
    "# Split the data\n",
    "X_train, X_test, y_train, y_test = train_test_split(X, y, test_size=0.2, random_state=42)\n",
    "\n",
    "# Step 4\n",
    "model = LinearRegression()  \n",
    "model.fit(X_train, y_train) \n",
    "\n",
    "# Step 5\n",
    "y_pred = model.predict(X_test) \n",
    "# print(y_pred)\n",
    "\n",
    "# Step 6\n",
    "mse = mean_squared_error(y_test, y_pred)  \n",
    "formatted_mse = \"{:.5f}\".format(mse % 100) #Modulus 100 to get last 2 digits before decimal.\n",
    "print(f\"Mean Squared Error (MSE): {formatted_mse}\")\n",
    "\n",
    "r2 = r2_score(y_test, y_pred) #Added r2 score.\n",
    "print(\"R-squared (R2):\", r2)"
   ]
  }
 ],
 "metadata": {
  "kernelspec": {
   "display_name": "Python 3",
   "language": "python",
   "name": "python3"
  },
  "language_info": {
   "codemirror_mode": {
    "name": "ipython",
    "version": 3
   },
   "file_extension": ".py",
   "mimetype": "text/x-python",
   "name": "python",
   "nbconvert_exporter": "python",
   "pygments_lexer": "ipython3",
   "version": "3.12.8"
  }
 },
 "nbformat": 4,
 "nbformat_minor": 2
}
